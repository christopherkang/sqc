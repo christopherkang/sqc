{
 "cells": [
  {
   "cell_type": "code",
   "execution_count": 1,
   "metadata": {},
   "outputs": [],
   "source": [
    "import numpy as np\n",
    "\n",
    "import ellipse\n",
    "from int_field import ZSqrt2Int, ZetaInt\n",
    "import sr_ipe\n",
    "import sr_ipy\n",
    "\n",
    "import matplotlib.pyplot as plt\n",
    "\n",
    "import search"
   ]
  },
  {
   "cell_type": "markdown",
   "metadata": {},
   "source": [
    "rationale is as follows:\n",
    "\n",
    "we begin with some region\n",
    "\n",
    "enclose it with an ellipse -- note that if we rescale the region it is also easy to rescale the ellipse\n",
    "\n",
    "Normalize ellipse so that it has determinant 1\n",
    "\n",
    "we rescale the ellipse so it is upright\n",
    "\n",
    "find the bounding box (add the point offset to the centered bounding box)\n",
    "\n",
    "run the ipe algorithm on the bounding box\n",
    "\n",
    "then, check the generated points and whether they live in the original region \n",
    "\n",
    "feed these candidates to norm-solving.\n",
    "\n"
   ]
  },
  {
   "cell_type": "code",
   "execution_count": 2,
   "metadata": {},
   "outputs": [],
   "source": [
    "for _ in range(0):\n",
    "    theta = np.random.rand() * np.pi\n",
    "    res = search.produce_candidate(theta, 0.9, 1e-5, 15)\n",
    "    \n",
    "    assert len(res) > 0, theta"
   ]
  },
  {
   "cell_type": "code",
   "execution_count": 3,
   "metadata": {},
   "outputs": [],
   "source": [
    "# slightly more challenging angle list:\n",
    "# 2.126707370682496\n",
    "# 1.230081192369828"
   ]
  },
  {
   "cell_type": "code",
   "execution_count": 21,
   "metadata": {},
   "outputs": [
    {
     "data": {
      "text/plain": [
       "array([[8.01682632e+18, 4.98059673e+18],\n",
       "       [4.98059673e+18, 3.09428479e+18]])"
      ]
     },
     "execution_count": 21,
     "metadata": {},
     "output_type": "execute_result"
    }
   ],
   "source": [
    "tta = ellipse.make_ellipse_matrix(2.126707370682496, 0.9, 1e-10)\n",
    "\n",
    "tta"
   ]
  },
  {
   "cell_type": "code",
   "execution_count": 22,
   "metadata": {},
   "outputs": [
    {
     "data": {
      "text/plain": [
       "array([[72244639.730327  , 44883274.46311748],\n",
       "       [44883274.46311748, 27884536.95736101]])"
      ]
     },
     "execution_count": 22,
     "metadata": {},
     "output_type": "execute_result"
    }
   ],
   "source": [
    "ttap = tta / np.sqrt(np.linalg.det(tta))\n",
    "ttap"
   ]
  },
  {
   "cell_type": "code",
   "execution_count": 26,
   "metadata": {},
   "outputs": [
    {
     "data": {
      "text/plain": [
       "dtype('float64')"
      ]
     },
     "execution_count": 26,
     "metadata": {},
     "output_type": "execute_result"
    }
   ],
   "source": [
    "tta.dtype"
   ]
  },
  {
   "cell_type": "code",
   "execution_count": 23,
   "metadata": {},
   "outputs": [
    {
     "data": {
      "text/plain": [
       "0.8073967665097881"
      ]
     },
     "execution_count": 23,
     "metadata": {},
     "output_type": "execute_result"
    }
   ],
   "source": [
    "np.linalg.det(ttap)"
   ]
  },
  {
   "cell_type": "code",
   "execution_count": 28,
   "metadata": {},
   "outputs": [
    {
     "name": "stdout",
     "output_type": "stream",
     "text": [
      "skew 5581416152.711215\n",
      "fixing z + zeta\n",
      "R\n",
      "detg:  -2.0\n",
      "skew 1363014368.5382304\n",
      "Fixing bias\n",
      "lf val vs inv 2.414213562373095 0.41421356237309515\n",
      "fixing z + zeta\n",
      "A\n",
      "detg:  1.9999999999999996\n",
      "skew 22308013.661193293\n",
      "Fixing bias\n",
      "lf val vs inv 5.82842712474619 0.1715728752538097\n",
      "fixing z + zeta\n",
      "Rb\n",
      "detg:  -1.999999999999993\n",
      "skew 9113605.19081043\n",
      "Fixing bias\n",
      "lf val vs inv 2.414213562373095 0.41421356237309515\n",
      "R\n",
      "detg:  -2.000000000000062\n",
      "skew 1153527.3298240837\n",
      "Fixing bias\n",
      "lf val vs inv 5.82842712474619 0.1715728752538097\n",
      "fixing beta\n",
      "fixing z + zeta\n",
      "B\n",
      "detg:  -2.000000000000604\n",
      "skew 194620.8768405571\n",
      "Fixing bias\n",
      "lf val vs inv 14.071067811865476 0.0710678118654755\n",
      "B\n",
      "detg:  -2.000000000000581\n",
      "skew 32047.70741888867\n",
      "Fixing bias\n",
      "lf val vs inv 14.071067811865476 0.0710678118654755\n",
      "fixing beta\n",
      "R\n",
      "detg:  1.9999999985764279\n",
      "skew 39.398499283839584\n",
      "Fixing bias\n",
      "lf val vs inv 82.01219330881976 0.012193308819760773\n",
      "fixing z + zeta\n",
      "B\n",
      "detg:  -1.9998123982955271\n",
      "final skew 0.6037651066068456\n",
      "det=4444449573980017.0, sqrtdet=66666705.13817236, a=3546476048.4932327, d=1920425.5539762627\n",
      "det=1.0000000000014513, sqrtdet=1.0000000000007256, a=0.0014401266302615508, d=743.9277066992609\n"
     ]
    },
    {
     "ename": "",
     "evalue": "",
     "output_type": "error",
     "traceback": [
      "\u001b[1;31mThe Kernel crashed while executing code in the the current cell or a previous cell. Please review the code in the cell(s) to identify a possible cause of the failure. Click <a href='https://aka.ms/vscodeJupyterKernelCrash'>here</a> for more info. View Jupyter <a href='command:jupyter.viewOutput'>log</a> for further details."
     ]
    }
   ],
   "source": [
    "K = 35\n",
    "\n",
    "search.produce_candidate(2.126707370682496, 0.9, 1e-7, K)"
   ]
  },
  {
   "cell_type": "code",
   "execution_count": 5,
   "metadata": {},
   "outputs": [],
   "source": [
    "def eval_candidate(real: ZSqrt2Int, imag: ZSqrt2Int, k=20):\n",
    "    zetaval = real.to_zeta() + ZetaInt((0, 0, 1, 0)) * imag.to_zeta()\n",
    "    \n",
    "    print(f\"Angle has value: {np.angle(zetaval.eval())}\")\n",
    "    \n",
    "    re = zetaval * ~zetaval\n",
    "    re, _ = zetaval.to_zsq()\n",
    "    \n",
    "    xi = ZSqrt2Int((16 * 2**k, 0)) - re\n",
    "    assert xi.eval() > 0\n",
    "    print(f\"Factorizing xi = {xi}\")\n",
    "    print(sr_ipy.factorize_xi(xi))"
   ]
  },
  {
   "cell_type": "code",
   "execution_count": 6,
   "metadata": {},
   "outputs": [
    {
     "name": "stdout",
     "output_type": "stream",
     "text": [
      "Angle has value: 2.1267123503568235\n",
      "Factorizing xi = ZSqrt2Int((16776854, 1708))\n",
      "finding non-residue\n",
      "beginning search\n",
      "finding non-residue\n",
      "beginning search\n",
      "70365706075696 4397856629731 1\n",
      "[(ZetaInt((0, 1, 0, -1)), 1), (ZetaInt((-8684, -5895, -225, 5693)), 1), (ZetaInt((-1, 1, 0, -1)), 2)]\n"
     ]
    }
   ],
   "source": [
    "eval_candidate(ZSqrt2Int((362, -1708)), ZSqrt2Int((-13934, 12190)))"
   ]
  },
  {
   "cell_type": "code",
   "execution_count": 5,
   "metadata": {},
   "outputs": [
    {
     "data": {
      "text/plain": [
       "0.8062137683940437"
      ]
     },
     "execution_count": 5,
     "metadata": {},
     "output_type": "execute_result"
    }
   ],
   "source": [
    "np.angle(0.6582638344965545+0.6862548471372333j)"
   ]
  },
  {
   "cell_type": "code",
   "execution_count": 6,
   "metadata": {},
   "outputs": [],
   "source": [
    "def make_ellipse_matrix(theta, q, eps):\n",
    "    a, b, c, d, e, f = find_coefficients(0, 0, theta, (1-q)/2, 6 * np.arcsin(eps / 2))\n",
    "    \n",
    "    # so that Ax^2 + Bxy + Cy^2 + Dx + Ey + F = 0\n",
    "    # D, E = 0 so \n",
    "    # Ax^2 + Bxy + Cy^2 = -F\n",
    "    # -A/F x^2 - B/F xy - C/F y^2 = 1\n",
    "    \n",
    "    return np.array([[a, b/2], [b/2, c]]) / -f\n",
    "\n",
    "def make_ellipse_center(theta, q):\n",
    "    mid_distance = (1 - q)/2 + q\n",
    "    x0 = mid_distance * np.cos(theta)\n",
    "    y0 = mid_distance * np.sin(theta)\n",
    "    \n",
    "    return x0, y0\n",
    "\n",
    "def ellipse_mat_val(x, y, mat):\n",
    "    u = np.array([[x, y]]).T\n",
    "    return u.T @ mat @ u\n",
    "    \n",
    "\n",
    "def ellipse_val(x, y, a, b, c, d, e, f):\n",
    "    return a*x**2 + b*x*y + c*y**2 + d*x + e*y + f\n",
    "\n",
    "def find_coefficients(x0, y0, theta, a, b):\n",
    "    # x0, y0 are the center of the ellipse\n",
    "    # theta is the angle of rotation\n",
    "    # a, b are the semi-major and semi-minor axes\n",
    "    # returns the coefficients of the ellipse equation\n",
    "    # a*x^2 + b*x*y + c*y^2 + d*x + e*y + f = 0\n",
    "    \n",
    "    # first we need to rotate the ellipse\n",
    "    A = a**2 * np.sin(theta)**2 + b**2 * np.cos(theta)**2\n",
    "    B = 2*(b**2 - a**2) * np.sin(theta) * np.cos(theta)\n",
    "    C = a**2 * np.cos(theta)**2 + b**2 * np.sin(theta)**2\n",
    "    D = -2*A*x0 - B*y0\n",
    "    E = -B*x0 - 2*C*y0\n",
    "    F = A*x0**2 + B*x0*y0 + C*y0**2 - a**2*b**2\n",
    "    \n",
    "    return A, B, C, D, E, F\n",
    "\n",
    "def check_in_region(x, q, theta, eps):\n",
    "    if np.abs(x) < q or np.abs(x) > 1:\n",
    "        return False\n",
    "    if np.angle(x) < theta - eps or np.angle(x) > theta + eps:\n",
    "        # print(f\"angle={np.angle(x)}, theta={theta}, eps={eps}\")\n",
    "        return False\n",
    "    return True\n",
    "\n",
    "def compute_bounding_box(ellipse):\n",
    "    # return w, h\n",
    "    # see boundingbox code in Haskell\n",
    "    det = np.linalg.det(ellipse)\n",
    "    sqrtdet = np.sqrt(det)\n",
    "    a = ellipse[0,0]\n",
    "    d = ellipse[1,1]\n",
    "    \n",
    "    print(f\"det={det}, sqrtdet={sqrtdet}, a={a}, d={d}\")\n",
    "    \n",
    "    return np.sqrt(d) / sqrtdet, np.sqrt(a) / sqrtdet"
   ]
  },
  {
   "cell_type": "code",
   "execution_count": 7,
   "metadata": {},
   "outputs": [],
   "source": [
    "theta = 0.8\n",
    "theta = np.pi/3\n",
    "theta = 1.230081192369828\n",
    "theta = 2.126707370682496\n",
    "\n",
    "q = 0.9\n",
    "eps = 1e-5"
   ]
  },
  {
   "cell_type": "code",
   "execution_count": 8,
   "metadata": {},
   "outputs": [
    {
     "name": "stdout",
     "output_type": "stream",
     "text": [
      "Norm: 666666.6666211198\n",
      "skew 558142.3325181258\n",
      "fixing z + zeta\n",
      "R\n",
      "detg:  -2.0\n",
      "skew 136301.61200972358\n",
      "Fixing bias\n",
      "shift_k negative!!!\n",
      "lf val vs inv 2.414213562373095 0.41421356237309515\n",
      "fixing z + zeta\n",
      "A\n",
      "detg:  1.9999999999999996\n",
      "skew 2231.764100722972\n",
      "Fixing bias\n",
      "shift_k negative!!!\n",
      "lf val vs inv 5.82842712474619 0.1715728752538097\n",
      "fixing z + zeta\n",
      "Rb\n",
      "detg:  -1.999999999999993\n",
      "skew 911.0572313300863\n",
      "Fixing bias\n",
      "shift_k negative!!!\n",
      "lf val vs inv 2.414213562373095 0.41421356237309515\n",
      "R\n",
      "detg:  -2.000000000000062\n",
      "skew 115.30721677708826\n",
      "Fixing bias\n",
      "shift_k negative!!!\n",
      "lf val vs inv 5.82842712474619 0.1715728752538097\n",
      "fixing beta\n",
      "fixing z + zeta\n",
      "B\n",
      "detg:  -2.000000000000604\n",
      "skew 19.05222575506901\n",
      "Fixing bias\n",
      "shift_k negative!!!\n",
      "lf val vs inv 14.071067811865476 0.0710678118654755\n",
      "B\n",
      "detg:  -2.000000000000581\n",
      "final skew 3.5413861790089505\n"
     ]
    },
    {
     "data": {
      "text/plain": [
       "6.558121926674586"
      ]
     },
     "execution_count": 8,
     "metadata": {},
     "output_type": "execute_result"
    }
   ],
   "source": [
    "\n",
    "A_ellipse = make_ellipse_matrix(theta, q, eps)\n",
    "B_ellipse = np.eye(2)\n",
    "\n",
    "# normalize\n",
    "a_normalization_factor = np.sqrt(np.linalg.det(A_ellipse))\n",
    "b_normalization_factor = np.sqrt(np.linalg.det(B_ellipse))\n",
    "A_ellipse = A_ellipse / a_normalization_factor\n",
    "B_ellipse = B_ellipse / b_normalization_factor\n",
    "\n",
    "print(f\"Norm: {a_normalization_factor}\")\n",
    "\n",
    "G, Aprime, Bprime = ellipse.find_grid_operator(A_ellipse, B_ellipse)\n",
    "Ginv = ellipse.compute_ginverse(G)\n",
    "\n",
    "ellipse.bias(Aprime, Bprime)\n"
   ]
  },
  {
   "cell_type": "code",
   "execution_count": 9,
   "metadata": {},
   "outputs": [
    {
     "data": {
      "text/plain": [
       "array([[26.29117508, -1.71504402],\n",
       "       [-1.71504402,  0.14991251]])"
      ]
     },
     "execution_count": 9,
     "metadata": {},
     "output_type": "execute_result"
    }
   ],
   "source": [
    "Aprime"
   ]
  },
  {
   "cell_type": "code",
   "execution_count": 10,
   "metadata": {},
   "outputs": [],
   "source": [
    "def visualize_ellipse(A):\n",
    "    x_range = np.linspace(-1, 1, 100)\n",
    "    y_range = np.linspace(-1, 1, 100)\n",
    "    \n",
    "    z_range = np.zeros((len(x_range), len(y_range)))\n",
    "    \n",
    "    for i, x in enumerate(x_range):\n",
    "        for j, y in enumerate(y_range):\n",
    "            xyval = np.array([[x, y]]).T\n",
    "            z_range[i, j] = xyval.T @ A @ xyval\n",
    "    \n",
    "    return z_range"
   ]
  },
  {
   "cell_type": "code",
   "execution_count": 11,
   "metadata": {},
   "outputs": [
    {
     "name": "stderr",
     "output_type": "stream",
     "text": [
      "C:\\Users\\keepw\\AppData\\Local\\Temp\\ipykernel_36440\\1370947519.py:10: DeprecationWarning: Conversion of an array with ndim > 0 to a scalar is deprecated, and will error in future. Ensure you extract a single element from your array before performing this operation. (Deprecated NumPy 1.25.)\n",
      "  z_range[i, j] = xyval.T @ A @ xyval\n"
     ]
    },
    {
     "data": {
      "text/plain": [
       "<matplotlib.contour.QuadContourSet at 0x20104f19b50>"
      ]
     },
     "execution_count": 11,
     "metadata": {},
     "output_type": "execute_result"
    },
    {
     "data": {
      "image/png": "[encoded data removed]",
      "text/plain": [
       "<Figure size 640x480 with 1 Axes>"
      ]
     },
     "metadata": {},
     "output_type": "display_data"
    }
   ],
   "source": [
    "ellipse_vals = visualize_ellipse(Aprime)\n",
    "\n",
    "# plot contour at 0.5, 1, 1.5\n",
    "plt.contour(ellipse_vals, levels=[0.1, 0.5, 1, 1.5,], extent=(-1, 1, -1, 1))"
   ]
  },
  {
   "cell_type": "code",
   "execution_count": 12,
   "metadata": {},
   "outputs": [
    {
     "name": "stdout",
     "output_type": "stream",
     "text": [
      "det=444444444422.19354, sqrtdet=666666.6666499785, a=17527450.052477572, d=99941.67151006273\n",
      "det=1.000000000000007, sqrtdet=1.0000000000000036, a=0.05173182810930901, d=30.928932188134606\n"
     ]
    }
   ],
   "source": [
    "orig_A_ellipse = Aprime * a_normalization_factor\n",
    "orig_B_ellipse = Bprime * b_normalization_factor\n",
    "\n",
    "wA, hA = compute_bounding_box(orig_A_ellipse)\n",
    "\n",
    "wB, hB = compute_bounding_box(orig_B_ellipse)"
   ]
  },
  {
   "cell_type": "code",
   "execution_count": 13,
   "metadata": {},
   "outputs": [
    {
     "data": {
      "text/plain": [
       "(0.00047420329069809193, 0.0062798696340010856)"
      ]
     },
     "execution_count": 13,
     "metadata": {},
     "output_type": "execute_result"
    }
   ],
   "source": [
    "wA, hA"
   ]
  },
  {
   "cell_type": "code",
   "execution_count": 14,
   "metadata": {},
   "outputs": [],
   "source": [
    "# we now need to enumerate in the correct range\n",
    "# note that the x0, y0 offset for the A box is as follows:\n",
    "\n",
    "a_x0, a_y0 = make_ellipse_center(theta, q)\n",
    "\n",
    "Gval = ellipse.eval_mat_zsq2(G)\n",
    "\n",
    "a_x0, a_y0 = Gval @ np.array([a_x0, a_y0])\n",
    "\n",
    "bb_a_real_min = a_x0 - wA / 2 \n",
    "bb_a_real_max = a_x0 + wA / 2\n",
    "bb_a_imag_min = a_y0 - hA / 2\n",
    "bb_a_imag_max = a_y0 + hA / 2\n",
    "\n",
    "bb_b_real_min = -wB / 2\n",
    "bb_b_real_max = wB / 2\n",
    "bb_b_imag_min = -hB / 2\n",
    "bb_b_imag_max = hB / 2"
   ]
  },
  {
   "cell_type": "code",
   "execution_count": 15,
   "metadata": {},
   "outputs": [],
   "source": [
    "k = 20\n",
    "leader = np.sqrt(2)**k\n",
    "\n",
    "\n",
    "candidate_transformed = sr_ipy.enumerate_2d(\n",
    "    leader * bb_a_real_min, \n",
    "    leader * bb_a_real_max, \n",
    "    leader * bb_a_imag_min, \n",
    "    leader * bb_a_imag_max, \n",
    "    leader * bb_b_real_min, \n",
    "    leader * bb_b_real_max, \n",
    "    leader * bb_b_imag_min, \n",
    "    leader * bb_b_imag_max)"
   ]
  },
  {
   "cell_type": "code",
   "execution_count": 16,
   "metadata": {},
   "outputs": [
    {
     "name": "stdout",
     "output_type": "stream",
     "text": [
      "[-2714.3850414327735, -2714.384567229483, 4080.1013229089945, 4080.107602778629, -2.7806893114897964, 2.7806893114897964, -0.11372315959085537, 0.11372315959085537]\n"
     ]
    }
   ],
   "source": [
    "all_ints = [bb_a_real_min, bb_a_real_max, bb_a_imag_min, bb_a_imag_max, bb_b_real_min, bb_b_real_max, bb_b_imag_min, bb_b_imag_max]\n",
    "print(all_ints)"
   ]
  },
  {
   "cell_type": "code",
   "execution_count": 17,
   "metadata": {},
   "outputs": [
    {
     "name": "stdout",
     "output_type": "stream",
     "text": [
      "Transformed candidate: (-2779530.1509333737+4178027.137252547j)\n",
      "(-0.5013371007161239+0.8069490540351623j)\n",
      "(-0.5013371016244013+0.8069490540420561j)\n",
      "Orig candidate: (ZSqrt2Int((362, -1708)), ZSqrt2Int((-13934, 12190)))\n",
      "Transformed candidate: (-2779529.916914658+4178026.7854848253j)\n",
      "(-0.5013297023266464+0.8069489814390784j)\n",
      "(-0.5013297038810083+0.8069489814465209j)\n",
      "Orig candidate: (ZSqrt2Int((956, -2128)), ZSqrt2Int((-20660, 16946)))\n",
      "Transformed candidate: (-2779530.2478671+4178027.2829595082j)\n",
      "(-0.5013401652293853+0.8069490841054445j)\n",
      "(-0.5013401664684011+0.8069490841124314j)\n",
      "Orig candidate: (ZSqrt2Int((1796, -2722)), ZSqrt2Int((-30172, 23672)))\n"
     ]
    },
    {
     "ename": "AssertionError",
     "evalue": "",
     "output_type": "error",
     "traceback": [
      "\u001b[1;31m---------------------------------------------------------------------------\u001b[0m",
      "\u001b[1;31mAssertionError\u001b[0m                            Traceback (most recent call last)",
      "\u001b[1;32mc:\\Users\\keepw\\Documents\\Research\\sqc\\ellipse_variable.ipynb Cell 18\u001b[0m line \u001b[0;36m2\n\u001b[0;32m     <a href='vscode-notebook-cell:/c%3A/Users/keepw/Documents/Research/sqc/ellipse_variable.ipynb#X12sZmlsZQ%3D%3D?line=24'>25</a>\u001b[0m         \u001b[39mprint\u001b[39m(orig_val)\n\u001b[0;32m     <a href='vscode-notebook-cell:/c%3A/Users/keepw/Documents/Research/sqc/ellipse_variable.ipynb#X12sZmlsZQ%3D%3D?line=26'>27</a>\u001b[0m         \u001b[39mprint\u001b[39m(\u001b[39mf\u001b[39m\u001b[39m\"\u001b[39m\u001b[39mOrig candidate: \u001b[39m\u001b[39m{\u001b[39;00morig_candsq2[\u001b[39m0\u001b[39m],\u001b[39m \u001b[39morig_candsq2[\u001b[39m1\u001b[39m]\u001b[39m}\u001b[39;00m\u001b[39m\"\u001b[39m)\n\u001b[1;32m---> <a href='vscode-notebook-cell:/c%3A/Users/keepw/Documents/Research/sqc/ellipse_variable.ipynb#X12sZmlsZQ%3D%3D?line=28'>29</a>\u001b[0m \u001b[39massert\u001b[39;00m \u001b[39m1\u001b[39m \u001b[39m==\u001b[39m \u001b[39m0\u001b[39m \n",
      "\u001b[1;31mAssertionError\u001b[0m: "
     ]
    }
   ],
   "source": [
    "# let's identify if any meet our critera\n",
    "\n",
    "ginv_val = ellipse.eval_mat_zsq2(Ginv)\n",
    "\n",
    "for candidate in candidate_transformed:\n",
    "    cand_val = candidate.eval()\n",
    "    orig_val = ginv_val @ np.array([cand_val.real, cand_val.imag]) / leader / (2 * np.sqrt(2))\n",
    "    \n",
    "    orig_val = orig_val[0] + 1j * orig_val[1]\n",
    "    \n",
    "    # print(f\"{np.angle(orig_val)}, {np.abs(orig_val)**2}\")\n",
    "    \n",
    "    if check_in_region(orig_val, q, theta, eps):\n",
    "        # we have succeeded!\n",
    "        print(f\"Transformed candidate: {cand_val}\")\n",
    "        \n",
    "        candsq2 = ZetaInt((0, 1, 0, -1)) * candidate\n",
    "        \n",
    "        orig_candsq2 = Ginv @ np.array(candsq2.to_zsq())\n",
    "        \n",
    "        # we have picked up an additional sqrt(2) factor from the ginv over the original orig_value\n",
    "        # so we just need to divide by 4 * leader\n",
    "        \n",
    "        print((orig_candsq2[0].eval() + 1j * orig_candsq2[1].eval()) / leader / 4)\n",
    "        print(orig_val)\n",
    "        \n",
    "        print(f\"Orig candidate: {orig_candsq2[0], orig_candsq2[1]}\")\n",
    "        \n",
    "assert 1 == 0 "
   ]
  },
  {
   "cell_type": "code",
   "execution_count": null,
   "metadata": {},
   "outputs": [
    {
     "data": {
      "text/plain": [
       "ZetaInt((-7948, 6274, 404, -5654))"
      ]
     },
     "execution_count": 18,
     "metadata": {},
     "output_type": "execute_result"
    }
   ],
   "source": [
    "ZSqrt2Int((-7948, 5964)).to_zeta() + ZetaInt((0, 0, 1, 0)) * ZSqrt2Int((404, 310)).to_zeta()"
   ]
  },
  {
   "cell_type": "code",
   "execution_count": null,
   "metadata": {},
   "outputs": [
    {
     "data": {
      "text/plain": [
       "array([-3974.,  3137.,   202., -2827.])"
      ]
     },
     "execution_count": 19,
     "metadata": {},
     "output_type": "execute_result"
    }
   ],
   "source": [
    "np.array([-7948, 6274, 404, -5654]) / 2"
   ]
  },
  {
   "cell_type": "code",
   "execution_count": null,
   "metadata": {},
   "outputs": [
    {
     "data": {
      "text/plain": [
       "ZetaInt((984, 29, -262, 11))"
      ]
     },
     "execution_count": 20,
     "metadata": {},
     "output_type": "execute_result"
    }
   ],
   "source": [
    "ZetaInt((0, 1, 0, -1)) * ZetaInt((13, -8, 2, 8)) * ZetaInt((49, -37, -118, -145))"
   ]
  },
  {
   "cell_type": "code",
   "execution_count": null,
   "metadata": {},
   "outputs": [
    {
     "data": {
      "text/plain": [
       "ZetaInt((1037862, 7232, 0, -7232))"
      ]
     },
     "execution_count": 21,
     "metadata": {},
     "output_type": "execute_result"
    }
   ],
   "source": [
    "ZetaInt((984, 29, -262, 11)) * ~ZetaInt((984, 29, -262, 11))"
   ]
  },
  {
   "cell_type": "code",
   "execution_count": 20,
   "metadata": {},
   "outputs": [
    {
     "name": "stdout",
     "output_type": "stream",
     "text": [
      "Angle has value: 2.1267123503568235\n",
      "Factorizing xi = ZSqrt2Int((16776854, 1708))\n",
      "finding non-residue\n",
      "beginning search\n",
      "finding non-residue\n",
      "beginning search\n",
      "70365706075696 4397856629731 1\n",
      "[(ZetaInt((0, 1, 0, -1)), 1), (ZetaInt((-8684, -5895, -225, 5693)), 1), (ZetaInt((-1, 1, 0, -1)), 2)]\n"
     ]
    }
   ],
   "source": [
    "eval_candidate(ZSqrt2Int((362, -1708)), ZSqrt2Int((-13934, 12190)))"
   ]
  },
  {
   "cell_type": "code",
   "execution_count": null,
   "metadata": {},
   "outputs": [],
   "source": [
    "def quadratic_residue(n, p):\n",
    "    # find R such that R^2 = c mod p\n",
    "    # using Tonelli-Shanks\n",
    "    \n",
    "    # first, factor p - 1 = q * 2^s\n",
    "    q = p - 1\n",
    "    s = 0\n",
    "    while q % 2 == 0:\n",
    "        q = q // 2\n",
    "        s += 1\n",
    "    \n",
    "    print(\"finding non-residue\")\n",
    "    # find a non-residue\n",
    "    z = 2\n",
    "    while pow(z, (p-1) // 2, p) == 1:\n",
    "        z += 1\n",
    "    \n",
    "    # initialize\n",
    "    M = s\n",
    "    c = pow(z, q, p)\n",
    "    t = pow(n, q, p)\n",
    "    r = pow(n, (q + 1) // 2, p)\n",
    "    \n",
    "    print(\"beginning search\")\n",
    "    \n",
    "    while True:\n",
    "        if t == 0:\n",
    "            return 0\n",
    "        if t == 1:\n",
    "            return r\n",
    "        \n",
    "        i = 1\n",
    "        while pow(t, (2**i), p) != 1:\n",
    "            i += 1\n",
    "            if i == M:\n",
    "                return None\n",
    "        \n",
    "        print(t, q, r)\n",
    "        assert M - i - 1 >= 0, (M, i)\n",
    "        b = pow(c, 2**(M-i-1), p)\n",
    "        \n",
    "        M = i \n",
    "        c = pow(b, 2, p)\n",
    "        t = (t * pow(b, 2, p)) % p\n",
    "        r = (r * b) % p"
   ]
  },
  {
   "cell_type": "code",
   "execution_count": null,
   "metadata": {},
   "outputs": [
    {
     "data": {
      "text/plain": [
       "1"
      ]
     },
     "execution_count": 17,
     "metadata": {},
     "output_type": "execute_result"
    }
   ],
   "source": [
    "10000121 % 4"
   ]
  },
  {
   "cell_type": "code",
   "execution_count": null,
   "metadata": {},
   "outputs": [],
   "source": [
    "100000037"
   ]
  },
  {
   "cell_type": "code",
   "execution_count": null,
   "metadata": {},
   "outputs": [
    {
     "name": "stdout",
     "output_type": "stream",
     "text": [
      "finding non-residue\n",
      "beginning search\n"
     ]
    },
    {
     "data": {
      "text/plain": [
       "49849241413827"
      ]
     },
     "execution_count": 24,
     "metadata": {},
     "output_type": "execute_result"
    }
   ],
   "source": [
    "quadratic_residue(2, 70365706075697)"
   ]
  },
  {
   "cell_type": "code",
   "execution_count": null,
   "metadata": {},
   "outputs": [
    {
     "data": {
      "text/plain": [
       "4"
      ]
     },
     "execution_count": 21,
     "metadata": {},
     "output_type": "execute_result"
    }
   ],
   "source": [
    "99**2 % 101"
   ]
  },
  {
   "cell_type": "code",
   "execution_count": null,
   "metadata": {},
   "outputs": [],
   "source": [
    "# p = 70365706075697\n",
    "p = 100000000\n",
    "\n",
    "# need to use the tonelli shanks algorithm to accelerate quadratic residue finding\n",
    "\n",
    "for k in range(p // 2 + 1):\n",
    "    if (k**2 + 1) % p == 0:\n",
    "        print(k)"
   ]
  },
  {
   "cell_type": "code",
   "execution_count": null,
   "metadata": {},
   "outputs": [
    {
     "ename": "NameError",
     "evalue": "name 'eval_candidate' is not defined",
     "output_type": "error",
     "traceback": [
      "\u001b[1;31m---------------------------------------------------------------------------\u001b[0m",
      "\u001b[1;31mNameError\u001b[0m                                 Traceback (most recent call last)",
      "\u001b[1;32mc:\\Users\\keepw\\Documents\\Research\\sqc\\ellipse_variable.ipynb Cell 24\u001b[0m line \u001b[0;36m1\n\u001b[1;32m----> <a href='vscode-notebook-cell:/c%3A/Users/keepw/Documents/Research/sqc/ellipse_variable.ipynb#Y101sZmlsZQ%3D%3D?line=0'>1</a>\u001b[0m eval_candidate(ZSqrt2Int((\u001b[39m7118\u001b[39m, \u001b[39m-\u001b[39m\u001b[39m4790\u001b[39m)), ZSqrt2Int((\u001b[39m310\u001b[39m, \u001b[39m202\u001b[39m)))\n",
      "\u001b[1;31mNameError\u001b[0m: name 'eval_candidate' is not defined"
     ]
    }
   ],
   "source": [
    "eval_candidate(ZSqrt2Int((7118, -4790)), ZSqrt2Int((310, 202)))"
   ]
  },
  {
   "cell_type": "code",
   "execution_count": null,
   "metadata": {},
   "outputs": [
    {
     "name": "stdout",
     "output_type": "stream",
     "text": [
      "Angle has value: 1.0472003523199531\n",
      "Factorizing xi = ZSqrt2Int((516214, 5466))\n",
      "False\n"
     ]
    }
   ],
   "source": [
    "eval_candidate(ZSqrt2Int((8074, -5466)), ZSqrt2Int((310, 202)))"
   ]
  },
  {
   "cell_type": "code",
   "execution_count": null,
   "metadata": {},
   "outputs": [
    {
     "name": "stdout",
     "output_type": "stream",
     "text": [
      "Factorizing xi = ZSqrt2Int((517846, 4312))\n"
     ]
    },
    {
     "ename": "",
     "evalue": "",
     "output_type": "error",
     "traceback": [
      "\u001b[1;31mThe Kernel crashed while executing code in the the current cell or a previous cell. Please review the code in the cell(s) to identify a possible cause of the failure. Click <a href='https://aka.ms/vscodeJupyterKernelCrash'>here</a> for more info. View Jupyter <a href='command:jupyter.viewOutput'>log</a> for further details."
     ]
    }
   ],
   "source": [
    "eval_candidate(ZSqrt2Int((6442, -4312)), ZSqrt2Int((310, 202)))"
   ]
  },
  {
   "cell_type": "code",
   "execution_count": null,
   "metadata": {},
   "outputs": [],
   "source": []
  },
  {
   "cell_type": "code",
   "execution_count": null,
   "metadata": {},
   "outputs": [
    {
     "data": {
      "text/plain": [
       "(0.4749646179760523+0.8226623089215415j)"
      ]
     },
     "execution_count": 34,
     "metadata": {},
     "output_type": "execute_result"
    }
   ],
   "source": [
    "(ZSqrt2Int((6442, -4312)).eval() + 1j * ZSqrt2Int((310, 202)).eval()) / leader / (2 * np.sqrt(2) * np.sqrt(2))"
   ]
  },
  {
   "cell_type": "code",
   "execution_count": null,
   "metadata": {},
   "outputs": [
    {
     "data": {
      "text/plain": [
       "ZetaInt((1097908008, -765630752, 0, 765630752))"
      ]
     },
     "execution_count": 12,
     "metadata": {},
     "output_type": "execute_result"
    }
   ],
   "source": [
    "ZetaInt((-22376, 18410, 1656, -15986)) * ~ZetaInt((-22376, 18410, 1656, -15986))"
   ]
  },
  {
   "cell_type": "code",
   "execution_count": null,
   "metadata": {},
   "outputs": [
    {
     "data": {
      "text/plain": [
       "(ZSqrt2Int((1097908008, -765630752)), ZSqrt2Int((0, 0)))"
      ]
     },
     "execution_count": 13,
     "metadata": {},
     "output_type": "execute_result"
    }
   ],
   "source": [
    "ZetaInt((1097908008, -765630752, 0, 765630752)).to_zsq()"
   ]
  },
  {
   "cell_type": "code",
   "execution_count": null,
   "metadata": {},
   "outputs": [
    {
     "data": {
      "text/plain": [
       "0.9500369325689255"
      ]
     },
     "execution_count": 16,
     "metadata": {},
     "output_type": "execute_result"
    }
   ],
   "source": [
    "np.abs(ZetaInt((-22376, 18410, 1656, -15986)).eval()) / 4096"
   ]
  },
  {
   "cell_type": "code",
   "execution_count": null,
   "metadata": {},
   "outputs": [
    {
     "data": {
      "text/plain": [
       "ZSqrt2Int((-1081130792, 765630752))"
      ]
     },
     "execution_count": 17,
     "metadata": {},
     "output_type": "execute_result"
    }
   ],
   "source": [
    "ZSqrt2Int((4096**2, 0)) - ZSqrt2Int((1097908008, -765630752))"
   ]
  },
  {
   "cell_type": "code",
   "execution_count": null,
   "metadata": {},
   "outputs": [
    {
     "data": {
      "text/plain": [
       "False"
      ]
     },
     "execution_count": 18,
     "metadata": {},
     "output_type": "execute_result"
    }
   ],
   "source": [
    "sr_ipy.factorize_xi(ZSqrt2Int((-1081130792, 765630752)))"
   ]
  },
  {
   "cell_type": "code",
   "execution_count": null,
   "metadata": {},
   "outputs": [
    {
     "ename": "AssertionError",
     "evalue": "",
     "output_type": "error",
     "traceback": [
      "\u001b[1;31m---------------------------------------------------------------------------\u001b[0m",
      "\u001b[1;31mAssertionError\u001b[0m                            Traceback (most recent call last)",
      "\u001b[1;32mc:\\Users\\keepw\\Documents\\Research\\sqc\\ellipse_variable.ipynb Cell 11\u001b[0m line \u001b[0;36m1\n\u001b[1;32m----> <a href='vscode-notebook-cell:/c%3A/Users/keepw/Documents/Research/sqc/ellipse_variable.ipynb#X54sZmlsZQ%3D%3D?line=0'>1</a>\u001b[0m \u001b[39massert\u001b[39;00m \u001b[39m1\u001b[39m \u001b[39m==\u001b[39m \u001b[39m0\u001b[39m\n",
      "\u001b[1;31mAssertionError\u001b[0m: "
     ]
    }
   ],
   "source": [
    "assert 1 == 0"
   ]
  },
  {
   "cell_type": "code",
   "execution_count": null,
   "metadata": {},
   "outputs": [
    {
     "data": {
      "text/plain": [
       "(1945.5698805859429+3369.860315354821j)"
      ]
     },
     "execution_count": 106,
     "metadata": {},
     "output_type": "execute_result"
    }
   ],
   "source": [
    "ZSqrt2Int((32156, -21362)).eval() + 1j * ZSqrt2Int((1752, 1144)).eval()"
   ]
  },
  {
   "cell_type": "code",
   "execution_count": null,
   "metadata": {},
   "outputs": [
    {
     "data": {
      "text/plain": [
       "(0.4749926466274268+0.8227198035534219j)"
      ]
     },
     "execution_count": 107,
     "metadata": {},
     "output_type": "execute_result"
    }
   ],
   "source": [
    "(1945.5698805859429+3369.860315354821j) / leader / (2 * np.sqrt(2)) / np.sqrt(2)"
   ]
  },
  {
   "cell_type": "code",
   "execution_count": null,
   "metadata": {},
   "outputs": [
    {
     "data": {
      "text/plain": [
       "16777216.000000045"
      ]
     },
     "execution_count": 108,
     "metadata": {},
     "output_type": "execute_result"
    }
   ],
   "source": [
    "(leader * 2 * 2)**2"
   ]
  },
  {
   "cell_type": "code",
   "execution_count": null,
   "metadata": {},
   "outputs": [
    {
     "data": {
      "text/plain": [
       "ZetaInt((32156, -20218, 1752, 22506))"
      ]
     },
     "execution_count": 101,
     "metadata": {},
     "output_type": "execute_result"
    }
   ],
   "source": [
    "ZSqrt2Int((32156, -21362)).to_zeta() + ZSqrt2Int((1752, 1144)).to_zeta() * ZetaInt((0, 0, 1, 0))"
   ]
  },
  {
   "cell_type": "code",
   "execution_count": null,
   "metadata": {},
   "outputs": [
    {
     "data": {
      "text/plain": [
       "ZetaInt((1952365400, -1369824368, 0, 1369824368))"
      ]
     },
     "execution_count": 102,
     "metadata": {},
     "output_type": "execute_result"
    }
   ],
   "source": [
    "ZetaInt((32156, -20218, 1752, 22506)) * ~ZetaInt((32156, -20218, 1752, 22506))"
   ]
  },
  {
   "cell_type": "code",
   "execution_count": null,
   "metadata": {},
   "outputs": [
    {
     "data": {
      "text/plain": [
       "(ZSqrt2Int((1952365400, -1369824368)), ZSqrt2Int((0, 0)))"
      ]
     },
     "execution_count": 110,
     "metadata": {},
     "output_type": "execute_result"
    }
   ],
   "source": [
    "ZetaInt((1952365400, -1369824368, 0, 1369824368)).to_zsq()"
   ]
  },
  {
   "cell_type": "code",
   "execution_count": null,
   "metadata": {},
   "outputs": [
    {
     "data": {
      "text/plain": [
       "ZSqrt2Int((-1935588184, 1369824368))"
      ]
     },
     "execution_count": 114,
     "metadata": {},
     "output_type": "execute_result"
    }
   ],
   "source": [
    "ZSqrt2Int((16777216, 0)) - ZSqrt2Int((1952365400, -1369824368))"
   ]
  },
  {
   "cell_type": "code",
   "execution_count": null,
   "metadata": {},
   "outputs": [
    {
     "name": "stderr",
     "output_type": "stream",
     "text": [
      "C:\\Users\\keepw\\AppData\\Local\\Temp\\ipykernel_15840\\1370947519.py:10: DeprecationWarning: Conversion of an array with ndim > 0 to a scalar is deprecated, and will error in future. Ensure you extract a single element from your array before performing this operation. (Deprecated NumPy 1.25.)\n",
      "  z_range[i, j] = xyval.T @ A @ xyval\n"
     ]
    },
    {
     "data": {
      "text/plain": [
       "<matplotlib.image.AxesImage at 0x233b3e4c790>"
      ]
     },
     "execution_count": 12,
     "metadata": {},
     "output_type": "execute_result"
    },
    {
     "data": {
      "image/png": "[encoded data removed]",
      "text/plain": [
       "<Figure size 640x480 with 1 Axes>"
      ]
     },
     "metadata": {},
     "output_type": "display_data"
    }
   ],
   "source": [
    "ellipse_vals = visualize_ellipse(A_ellipse) <= 1\n",
    "\n",
    "\n",
    "plt.imshow(ellipse_vals, extent=(-1, 1, -1, 1))"
   ]
  },
  {
   "cell_type": "code",
   "execution_count": null,
   "metadata": {},
   "outputs": [
    {
     "name": "stderr",
     "output_type": "stream",
     "text": [
      "C:\\Users\\keepw\\AppData\\Local\\Temp\\ipykernel_15840\\1370947519.py:10: DeprecationWarning: Conversion of an array with ndim > 0 to a scalar is deprecated, and will error in future. Ensure you extract a single element from your array before performing this operation. (Deprecated NumPy 1.25.)\n",
      "  z_range[i, j] = xyval.T @ A @ xyval\n"
     ]
    },
    {
     "data": {
      "text/plain": [
       "<matplotlib.contour.QuadContourSet at 0x233b5166e50>"
      ]
     },
     "execution_count": 20,
     "metadata": {},
     "output_type": "execute_result"
    },
    {
     "data": {
      "image/png": "[encoded data removed]",
      "text/plain": [
       "<Figure size 640x480 with 1 Axes>"
      ]
     },
     "metadata": {},
     "output_type": "display_data"
    }
   ],
   "source": []
  },
  {
   "cell_type": "code",
   "execution_count": null,
   "metadata": {},
   "outputs": [],
   "source": [
    "def enumerate_points(theta, q, eps, k_max):\n",
    "    # we need to first create the ellipse to bound the point\n",
    "    # we'll start by creating the ellipse itself and then we can progressively modify the center point\n",
    "    # as long as we move to a satisfying new grid it will work -- we don't need to always be creating new grid operators (even if we are creating new ellipses, which we don't necessarily need to do)\n",
    "    \n",
    "    \n",
    "    # the ellipse itself is defined as follows\n",
    "    A_ellipse = ellipse.make_ellipse_matrix(theta, q, eps)\n",
    "    B_ellipse = np.eye(2)\n",
    "    \n",
    "    G, Aprime, Bprime = ellipse.find_grid_operator(A_ellipse, B_ellipse)\n",
    "    Ginv = ellipse.compute_ginverse(G)\n",
    "    # the ellipse maker should be making the optimal ellipse and then we choose the axis lengths based on the optimal ellipse    \n",
    "    \n",
    "    # create the bounding box for A B\n",
    "    bb_A_min, bb_A_max = compute_bounding_box(Aprime)\n",
    "    bb_B_min, bb_B_max = compute_bounding_box(Bprime)\n",
    "    \n",
    "    # now, for each value of k, we need to find the points that are within the ellipse\n",
    "    \n",
    "    valid_points = []\n",
    "    for k in range(1, k_max + 1):\n",
    "        # rescale bounding boxes:\n",
    "        bb_A_k_min = np.sqrt(2)**k * bb_A_min\n",
    "        bb_A_k_max = np.sqrt(2)**k * bb_A_max\n",
    "        \n",
    "        if k % 2 == 0:\n",
    "            # k even so signs are the same\n",
    "            bb_B_k_min = (-np.sqrt(2))**k * bb_B_min\n",
    "            bb_B_k_max = (-np.sqrt(2))**k * bb_B_max\n",
    "        else:\n",
    "            # signs are different\n",
    "            bb_B_k_min = (-np.sqrt(2))**k * bb_B_max\n",
    "            bb_B_k_max = (-np.sqrt(2))**k * bb_B_min\n",
    "        \n",
    "        # we need to find the points within the ellipse\n",
    "        k_points = sr_ipy.enumerate_2d(bb_A_k_min, bb_A_k_max, bb_B_k_min, bb_B_k_max)\n",
    "        \n",
    "        # TODO: want to add filterability with prior rounds\n",
    "        \n",
    "        # temporarily convert $p$ to Z sqrt 2 ints for the next step\n",
    "        # note that we have ZetaInts right now which may not be expressable as a + bi for a, b in ZSqrt2\n",
    "        # but, ZetaInts are integers divided by sqrt(2) so we can multiply by sqrt(2) to get Z sqrt 2 ints\n",
    "        k_points_sqrt2 = [np.array((p * ZetaInt((0, 1, 0, -1))).to_zsq()) for p in k_points]\n",
    "        \n",
    "        # need to get types right here -- the points are ZetaInts and we need to remap to zetaints\n",
    "        # but ginv will be Z sqrt 2 ints\n",
    "        k_points_true = [Ginv @ p for p in k_points]\n",
    "        \n",
    "        # filter for points which are within the ellipse\n",
    "        k_points = [p for p in k_points if sr_ipy.check_in_region(p.eval(), q, theta, eps)]\n",
    "        \n",
    "        # TODO: filter for solvable points\n",
    "    \n",
    "    return valid_points\n",
    "\n",
    "def enumerate_points_k(theta, q, eps, k, A_int, B_int):\n",
    "    # should output a list of zetaints\n",
    "    pass"
   ]
  },
  {
   "cell_type": "markdown",
   "metadata": {},
   "source": [
    "\n",
    "        # adjust by the offset\n",
    "        # the true center we'd like to use is the point which is (1 + q)/2 away from the origin\n",
    "        # at angle theta\n",
    "        true_r = (1 + q)/2\n",
    "        true_x0 = true_r * np.cos(theta)\n",
    "        true_y0 = true_r * np.sin(theta)\n",
    "        \n",
    "        # which is then rescaled by our k factor\n",
    "        true_x0 *= np.sqrt(2)**k\n",
    "        true_y0 *= np.sqrt(2)**k\n",
    "        \n",
    "        constant_lambda = 1 + np.sqrt(2)\n",
    "        half_lambda = constant_lambda / 2\n",
    "        \n",
    "        # we need to find a satisfactory point in this interval\n",
    "        offset_candidates = sr_ipy.enumerate_2d(\n",
    "            true_x0 - half_lambda, \n",
    "            true_x0 + half_lambda, \n",
    "            true_y0 - half_lambda, \n",
    "            true_y0 + half_lambda, \n",
    "            -np.sqrt(2)**k,\n",
    "            np.sqrt(2)**k,\n",
    "            -np.sqrt(2)**k,\n",
    "            np.sqrt(2)**k,\n",
    "        )\n",
    "        \n",
    "        if len(offset_candidates) == 0:\n",
    "            continue"
   ]
  }
 ],
 "metadata": {
  "kernelspec": {
   "display_name": "verity-full",
   "language": "python",
   "name": "python3"
  },
  "language_info": {
   "codemirror_mode": {
    "name": "ipython",
    "version": 3
   },
   "file_extension": ".py",
   "mimetype": "text/x-python",
   "name": "python",
   "nbconvert_exporter": "python",
   "pygments_lexer": "ipython3",
   "version": "3.11.7"
  }
 },
 "nbformat": 4,
 "nbformat_minor": 2
}
