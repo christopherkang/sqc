{
 "cells": [
  {
   "cell_type": "code",
   "execution_count": 1,
   "metadata": {},
   "outputs": [],
   "source": [
    "import numpy as np\n",
    "import matplotlib.pyplot as plt"
   ]
  },
  {
   "cell_type": "markdown",
   "metadata": {},
   "source": [
    "need to get the center point by seeding with some k value \n",
    "\n",
    "will use a tiny interval to find the center. \n",
    "\n",
    "``fatten interval\" as they call it\n",
    "\n"
   ]
  },
  {
   "cell_type": "code",
   "execution_count": 2,
   "metadata": {},
   "outputs": [
    {
     "data": {
      "text/plain": [
       "2.532277029130284"
      ]
     },
     "execution_count": 2,
     "metadata": {},
     "output_type": "execute_result"
    }
   ],
   "source": [
    "orig_reg_area = lambda q, eps: 2 * eps * np.pi * (1 - q**2) / (2 * np.pi)\n",
    "\n",
    "ellipse_area = lambda a, b: a * b * np.pi\n",
    "\n",
    "\n",
    "area_ratio = lambda q, eps: (1 - q**2) * 2 * eps * np.pi / (6 * np.arcsin(eps / 2) * np.pi * (1 - q) / 2)\n",
    "\n",
    "# use concentric circle formula\n",
    "# so this will be (1 - (q)^2) * pi * 2eps\n",
    "\n",
    "# area_ratio_2 = lambda q, eps: (1 - q**2) * 2 * eps * np.pi/ (eps / 2 * (1 - q) / 2 * np.pi)\n",
    "\n",
    "area_ratio_2 = lambda q, eps: orig_reg_area(q, eps) / ellipse_area((1- q) / np.sqrt(2), 2 * eps / np.sqrt(2))\n",
    "\n",
    "\n",
    "area_ratio(0.9, 0.1)"
   ]
  },
  {
   "cell_type": "code",
   "execution_count": 3,
   "metadata": {},
   "outputs": [
    {
     "data": {
      "text/plain": [
       "0.0"
      ]
     },
     "execution_count": 3,
     "metadata": {},
     "output_type": "execute_result"
    }
   ],
   "source": [
    "orig_reg_area(0.9, np.pi) - np.pi * (1 - 0.81)"
   ]
  },
  {
   "cell_type": "code",
   "execution_count": 4,
   "metadata": {},
   "outputs": [
    {
     "data": {
      "text/plain": [
       "0.007853981633974482"
      ]
     },
     "execution_count": 4,
     "metadata": {},
     "output_type": "execute_result"
    }
   ],
   "source": [
    "ellipse_area((1- 0.9) / 2 / np.sqrt(2), 0.1 / np.sqrt(2))"
   ]
  },
  {
   "cell_type": "code",
   "execution_count": 5,
   "metadata": {},
   "outputs": [
    {
     "data": {
      "text/plain": [
       "0.018999999999999996"
      ]
     },
     "execution_count": 5,
     "metadata": {},
     "output_type": "execute_result"
    }
   ],
   "source": [
    "orig_reg_area(0.9, 0.1)"
   ]
  },
  {
   "cell_type": "code",
   "execution_count": 6,
   "metadata": {},
   "outputs": [
    {
     "data": {
      "text/plain": [
       "0.6047887837492024"
      ]
     },
     "execution_count": 6,
     "metadata": {},
     "output_type": "execute_result"
    }
   ],
   "source": [
    "area_ratio_2(0.9, 1e-10)"
   ]
  },
  {
   "cell_type": "code",
   "execution_count": 7,
   "metadata": {},
   "outputs": [
    {
     "data": {
      "text/plain": [
       "0.41349667156634407"
      ]
     },
     "execution_count": 7,
     "metadata": {},
     "output_type": "execute_result"
    }
   ],
   "source": [
    "3 * np.sqrt(3) / (4 * np.pi)"
   ]
  },
  {
   "cell_type": "code",
   "execution_count": 8,
   "metadata": {},
   "outputs": [
    {
     "name": "stderr",
     "output_type": "stream",
     "text": [
      "C:\\Users\\keepw\\AppData\\Local\\Temp\\ipykernel_19624\\4129077193.py:75: DeprecationWarning: Conversion of an array with ndim > 0 to a scalar is deprecated, and will error in future. Ensure you extract a single element from your array before performing this operation. (Deprecated NumPy 1.25.)\n",
      "  Z[i, j] = ellipse_mat_val(x_range[i] - x0, y_range[j] - y0, make_ellipse_matrix(theta, q, eps))\n"
     ]
    },
    {
     "data": {
      "text/plain": [
       "(0.4, 0.77)"
      ]
     },
     "execution_count": 8,
     "metadata": {},
     "output_type": "execute_result"
    },
    {
     "data": {
      "image/png": "[encoded data removed]",
      "text/plain": [
       "<Figure size 640x480 with 1 Axes>"
      ]
     },
     "metadata": {},
     "output_type": "display_data"
    }
   ],
   "source": [
    "# let's see if we can correctly create the ellipse\n",
    "\n",
    "def make_ellipse_matrix(theta, q, eps):\n",
    "    # a, b, c, d, e, f = find_coefficients(0, 0, theta, (1-q)/2, 6 * np.arcsin(eps / 2))\n",
    "    a, b, c, d, e, f = find_coefficients(0, 0, theta, (1-q) / np.sqrt(2), 2 * eps / np.sqrt(2))\n",
    "    \n",
    "    \n",
    "    # so that Ax^2 + Bxy + Cy^2 + Dx + Ey + F = 0\n",
    "    # D, E = 0 so \n",
    "    # Ax^2 + Bxy + Cy^2 = -F\n",
    "    # -A/F x^2 - B/F xy - C/F y^2 = 1\n",
    "    \n",
    "    return np.array([[a, b/2], [b/2, c]]) / -f\n",
    "\n",
    "def ellipse_mat_val(x, y, mat):\n",
    "    u = np.array([[x, y]]).T\n",
    "    return u.T @ mat @ u\n",
    "    \n",
    "\n",
    "def ellipse_val(x, y, a, b, c, d, e, f):\n",
    "    return a*x**2 + b*x*y + c*y**2 + d*x + e*y + f\n",
    "\n",
    "def find_coefficients(x0, y0, theta, a, b):\n",
    "    # x0, y0 are the center of the ellipse\n",
    "    # theta is the angle of rotation\n",
    "    # a, b are the semi-major and semi-minor axes\n",
    "    # returns the coefficients of the ellipse equation\n",
    "    # a*x^2 + b*x*y + c*y^2 + d*x + e*y + f = 0\n",
    "    \n",
    "    # first we need to rotate the ellipse\n",
    "    A = a**2 * np.sin(theta)**2 + b**2 * np.cos(theta)**2\n",
    "    B = 2*(b**2 - a**2) * np.sin(theta) * np.cos(theta)\n",
    "    C = a**2 * np.cos(theta)**2 + b**2 * np.sin(theta)**2\n",
    "    D = -2*A*x0 - B*y0\n",
    "    E = -B*x0 - 2*C*y0\n",
    "    F = A*x0**2 + B*x0*y0 + C*y0**2 - a**2*b**2\n",
    "    \n",
    "    return A, B, C, D, E, F\n",
    "\n",
    "def check_in_region(x, q, theta, eps):\n",
    "    if np.abs(x) < q or np.abs(x) > 1:\n",
    "        return False\n",
    "    if np.angle(x) < theta - eps or np.angle(x) > theta + eps:\n",
    "        # print(f\"angle={np.angle(x)}, theta={theta}, eps={eps}\")\n",
    "        return False\n",
    "    return True\n",
    "\n",
    "\n",
    "q = 0.9\n",
    "theta = np.pi/4\n",
    "eps = 1e-5\n",
    "\n",
    "\n",
    "x_range = np.linspace(0.4, 0.77, 500)\n",
    "y_range = np.linspace(0.4, 0.77, 500)\n",
    "\n",
    "mid_distance = (1 - q)/2 + q\n",
    "x0 = mid_distance * np.cos(theta)\n",
    "y0 = mid_distance * np.sin(theta)\n",
    "\n",
    "# a, b, c, d, e, f = find_coefficients(x0, y0, np.pi/4, (1-q)/2, np.arcsin(eps / 2))\n",
    "a, b, c, d, e, f = find_coefficients(0, 0, np.pi/4, (1-q)/ np.sqrt(2), 2 * eps / np.sqrt(2))\n",
    "\n",
    "# 6 * np.arcsin(eps / 2)\n",
    "\n",
    "\n",
    "X, Y = np.meshgrid(x_range, y_range)\n",
    "# Z = ellipse_val(X, Y, a, b, c, d, e, f)\n",
    "# Z = ellipse_val(X - x0, Y - y0, a, b, c, d, e, f)\n",
    "\n",
    "IR = np.zeros((len(X), len(Y)))\n",
    "Z = np.zeros((len(X), len(Y)))\n",
    "for i in range(len(x_range)):\n",
    "    for j in range(len(y_range)):\n",
    "        Z[i, j] = ellipse_mat_val(x_range[i] - x0, y_range[j] - y0, make_ellipse_matrix(theta, q, eps))\n",
    "        \n",
    "        IR[i, j] = check_in_region(x_range[i] + 1j*y_range[j], q, theta, eps)\n",
    "\n",
    "Z = Z <= 1\n",
    "\n",
    "# Z = ellipse_mat_val(X - x0, Y - y0, make_ellipse_matrix(theta, q, eps))\n",
    "\n",
    "# IR = np.vectorize(check_in_region)(X + 1j*Y, q, theta, eps)\n",
    "\n",
    "# plot the ellipse filled in\n",
    "plt.contourf(X, Y, Z, levels=[0.5, 1.5], colors=['blue'])\n",
    "\n",
    "# plot the region\n",
    "plt.contour(X, Y, IR, levels=[0.5, 1.5], colors=['red'])\n",
    "\n",
    "# plot the frontier of the unit circle\n",
    "theta = np.linspace(0, 2*np.pi, 100)\n",
    "plt.plot(np.cos(theta), np.sin(theta), color='black')\n",
    "\n",
    "plt.xlim(min(x_range), max(x_range))\n",
    "plt.ylim(min(y_range), max(y_range))\n",
    "\n",
    "# plt.xlim(0.7, 0.71)\n",
    "# plt.ylim(0.7, 0.71)\n"
   ]
  },
  {
   "cell_type": "code",
   "execution_count": 9,
   "metadata": {},
   "outputs": [],
   "source": [
    "def compute_bounding_box(ellipse):\n",
    "    # return w, h\n",
    "    # see boundingbox code in Haskell\n",
    "    det = np.linalg.det(ellipse)\n",
    "    sqrtdet = np.sqrt(det)\n",
    "    a = ellipse[0,0]\n",
    "    d = ellipse[1,1]\n",
    "    \n",
    "    print(f\"det={det}, sqrtdet={sqrtdet}, a={a}, d={d}\")\n",
    "    \n",
    "    return np.sqrt(d) / sqrtdet, np.sqrt(a) / sqrtdet"
   ]
  },
  {
   "cell_type": "code",
   "execution_count": 10,
   "metadata": {},
   "outputs": [
    {
     "ename": "NameError",
     "evalue": "name 'a0' is not defined",
     "output_type": "error",
     "traceback": [
      "\u001b[1;31m---------------------------------------------------------------------------\u001b[0m",
      "\u001b[1;31mNameError\u001b[0m                                 Traceback (most recent call last)",
      "\u001b[1;32mc:\\Users\\keepw\\Documents\\Research\\sqc\\ellipse_maker.ipynb Cell 11\u001b[0m line \u001b[0;36m1\n\u001b[1;32m----> <a href='vscode-notebook-cell:/c%3A/Users/keepw/Documents/Research/sqc/ellipse_maker.ipynb#X13sZmlsZQ%3D%3D?line=0'>1</a>\u001b[0m np\u001b[39m.\u001b[39mlinalg\u001b[39m.\u001b[39mdet(np\u001b[39m.\u001b[39marray([[a0, b0\u001b[39m/\u001b[39m\u001b[39m2\u001b[39m], [b0\u001b[39m/\u001b[39m\u001b[39m2\u001b[39m, c0]]))\n",
      "\u001b[1;31mNameError\u001b[0m: name 'a0' is not defined"
     ]
    }
   ],
   "source": [
    "np.linalg.det(np.array([[a0, b0/2], [b0/2, c0]]))"
   ]
  },
  {
   "cell_type": "code",
   "execution_count": 11,
   "metadata": {},
   "outputs": [
    {
     "name": "stdout",
     "output_type": "stream",
     "text": [
      "det=100.00000000000004, sqrtdet=10.000000000000002, a=14.193405015836467, d=14.806594984163532\n",
      "[[14.19340502 10.49552283]\n",
      " [10.49552283 14.80659498]]\n",
      "w=0.38479338591201806, h=0.37674135711169887\n"
     ]
    },
    {
     "data": {
      "image/png": "[encoded data removed]",
      "text/plain": [
       "<Figure size 640x480 with 1 Axes>"
      ]
     },
     "metadata": {},
     "output_type": "display_data"
    }
   ],
   "source": [
    "a0, b0, c0, d0, e0, f0 = find_coefficients(0, 0, 0.8, 0.2, 0.5)\n",
    "\n",
    "ellipse = np.array([[a0, b0/2], [b0/2, c0]]) / -f0\n",
    "a0 = ellipse[0,0]\n",
    "b0 = ellipse[0,1]\n",
    "c0 = ellipse[1,1]\n",
    "\n",
    "\n",
    "x_range = np.linspace(-1, 1, 500)\n",
    "y_range = np.linspace(-1, 1, 500)\n",
    "X, Y = np.meshgrid(x_range, y_range)\n",
    "\n",
    "# plot the ellipse\n",
    "plt.contour(X, Y, ellipse_val(X, Y, a0, 2 * b0, c0, d0, e0, 0), levels=[0, 1], colors=['black'])\n",
    "\n",
    "# plot bounding box\n",
    "w, h = compute_bounding_box(ellipse)\n",
    "\n",
    "# print array\n",
    "print(np.array([[a0, b0], [b0, c0]]))\n",
    "\n",
    "# plot bounding box\n",
    "plt.plot([w, w, -w, -w, w], [-h, h, h, -h, -h], color='black')\n",
    "print(f\"w={w}, h={h}\")"
   ]
  },
  {
   "cell_type": "code",
   "execution_count": null,
   "metadata": {},
   "outputs": [
    {
     "data": {
      "text/plain": [
       "array([[0.003136  , 0.00310594, 0.00308008, ..., 0.07833636, 0.07913408,\n",
       "        0.079936  ],\n",
       "       [0.00310594, 0.003072  , 0.00304226, ..., 0.0775422 , 0.07833604,\n",
       "        0.07913408],\n",
       "       [0.00308008, 0.00304226, 0.00300865, ..., 0.07675224, 0.0775422 ,\n",
       "        0.07833636],\n",
       "       ...,\n",
       "       [0.07833636, 0.0775422 , 0.07675224, ..., 0.00300865, 0.00304226,\n",
       "        0.00308008],\n",
       "       [0.07913408, 0.07833604, 0.0775422 , ..., 0.00304226, 0.003072  ,\n",
       "        0.00310594],\n",
       "       [0.079936  , 0.07913408, 0.07833636, ..., 0.00308008, 0.00310594,\n",
       "        0.003136  ]])"
      ]
     },
     "execution_count": 90,
     "metadata": {},
     "output_type": "execute_result"
    }
   ],
   "source": [
    "ellipse_val(X, Y, a0, b0, c0, d0, e0, f0) "
   ]
  },
  {
   "cell_type": "code",
   "execution_count": null,
   "metadata": {},
   "outputs": [
    {
     "name": "stdout",
     "output_type": "stream",
     "text": [
      "0.0012501250000104163 -0.0024997499999791658 0.0012501250000104163 -3.3587574905331527e-07 -3.3587574905331527e-07 2.2500001875000342e-07\n"
     ]
    }
   ],
   "source": [
    "print(a, b, c, d, e, f)"
   ]
  },
  {
   "cell_type": "code",
   "execution_count": null,
   "metadata": {},
   "outputs": [
    {
     "data": {
      "text/plain": [
       "(0.0012501250000104163,\n",
       " -0.0024997499999791658,\n",
       " 0.0012501250000104163,\n",
       " 0.0,\n",
       " 0.0,\n",
       " -6.250000520833401e-10)"
      ]
     },
     "execution_count": 51,
     "metadata": {},
     "output_type": "execute_result"
    }
   ],
   "source": [
    "find_coefficients(0, 0, np.pi/4, (1-q)/2, np.arcsin(eps / 2))"
   ]
  },
  {
   "cell_type": "markdown",
   "metadata": {},
   "source": [
    "can then divide everything by F so that it's rescaled to 1\n",
    "need to think about how to peel off the -p factor safely and then still translate"
   ]
  },
  {
   "cell_type": "code",
   "execution_count": null,
   "metadata": {},
   "outputs": [
    {
     "data": {
      "text/plain": [
       "array([[ 0.00125013, -0.00249975],\n",
       "       [-0.00249975,  0.00125013]])"
      ]
     },
     "execution_count": 50,
     "metadata": {},
     "output_type": "execute_result"
    }
   ],
   "source": [
    "np.array([[a, b], [b, c]])"
   ]
  },
  {
   "cell_type": "code",
   "execution_count": null,
   "metadata": {},
   "outputs": [
    {
     "data": {
      "text/plain": [
       "False"
      ]
     },
     "execution_count": 14,
     "metadata": {},
     "output_type": "execute_result"
    }
   ],
   "source": [
    "np.any(IR)"
   ]
  }
 ],
 "metadata": {
  "kernelspec": {
   "display_name": "verity-full",
   "language": "python",
   "name": "python3"
  },
  "language_info": {
   "codemirror_mode": {
    "name": "ipython",
    "version": 3
   },
   "file_extension": ".py",
   "mimetype": "text/x-python",
   "name": "python",
   "nbconvert_exporter": "python",
   "pygments_lexer": "ipython3",
   "version": "3.11.7"
  }
 },
 "nbformat": 4,
 "nbformat_minor": 2
}
