{
 "cells": [
  {
   "cell_type": "code",
   "execution_count": 2,
   "metadata": {},
   "outputs": [],
   "source": [
    "import numpy as np\n",
    "import subprocess"
   ]
  },
  {
   "cell_type": "code",
   "execution_count": 42,
   "metadata": {},
   "outputs": [
    {
     "name": "stdout",
     "output_type": "stream",
     "text": [
      "HTSHTSHTSHTSHTSHTSHTHTSHTHTSHTSHTHTHTSHTHTHTSHTHTSHTSHTSHTSHTSHTHTSHTHTSHTSHTHTHTSHTHTHTHXSWW\n"
     ]
    }
   ],
   "source": [
    "gs_out = subprocess.check_output(r\"gridsynth.exe pi/1024 -d 3\", shell=True)\n",
    "gs_out = gs_out.decode(\"utf-8\")\n",
    "gs_out = gs_out.replace(\"\\r\\n\",\"\")\n",
    "print(gs_out)"
   ]
  },
  {
   "cell_type": "code",
   "execution_count": 43,
   "metadata": {},
   "outputs": [],
   "source": [
    "H = 1/np.sqrt(2) * np.array([[1, 1], [1, -1]])\n",
    "S = np.array([[1, 0], [0, 1j]])\n",
    "T = np.array([[1, 0], [0, np.exp(1j*np.pi/4)]])\n",
    "X = np.array([[0, 1], [1, 0]])\n",
    "W = np.identity(2)\n",
    "\n",
    "gates = {\n",
    "    \"H\": H,\n",
    "    \"S\": S,\n",
    "    \"T\": T,\n",
    "    \"X\": X,\n",
    "    \"W\": W, \n",
    "}\n",
    "\n",
    "def run_seq(seq):\n",
    "    out = np.identity(2)\n",
    "    for gate in seq:\n",
    "        out = out @ gates[gate]\n",
    "    \n",
    "    return out"
   ]
  },
  {
   "cell_type": "code",
   "execution_count": 44,
   "metadata": {},
   "outputs": [
    {
     "data": {
      "text/plain": [
       "0.0015339807878856412"
      ]
     },
     "execution_count": 44,
     "metadata": {},
     "output_type": "execute_result"
    }
   ],
   "source": [
    "np.pi / 1024 / 2"
   ]
  },
  {
   "cell_type": "code",
   "execution_count": 45,
   "metadata": {},
   "outputs": [
    {
     "name": "stdout",
     "output_type": "stream",
     "text": [
      "Unitary: [[-0.00238638-9.99997111e-01j  0.00027063+1.02235494e-04j]\n",
      " [ 0.00027063-1.02235494e-04j  0.00238638-9.99997111e-01j]]\n",
      "T count: 34\n",
      "Probability: 0.9999999163054778\n",
      "Angle: -0.000852399324919169\n"
     ]
    }
   ],
   "source": [
    "t_count = gs_out.count(\"T\")\n",
    "\n",
    "imp_u = run_seq(gs_out)\n",
    "prob = np.abs(imp_u[0, 0])**2\n",
    "ang = np.angle(imp_u[0, 0] / imp_u[1, 1]) / 2\n",
    "\n",
    "print(f\"Unitary: {imp_u}\")\n",
    "print(f\"T count: {t_count}\")\n",
    "print(f\"Probability: {prob}\")\n",
    "print(f\"Angle: {ang + np.pi / 1024 / 2}\")"
   ]
  }
 ],
 "metadata": {
  "kernelspec": {
   "display_name": "verity-full",
   "language": "python",
   "name": "python3"
  },
  "language_info": {
   "codemirror_mode": {
    "name": "ipython",
    "version": 3
   },
   "file_extension": ".py",
   "mimetype": "text/x-python",
   "name": "python",
   "nbconvert_exporter": "python",
   "pygments_lexer": "ipython3",
   "version": "3.11.7"
  }
 },
 "nbformat": 4,
 "nbformat_minor": 2
}
