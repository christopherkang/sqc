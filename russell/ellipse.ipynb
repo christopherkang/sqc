{
 "cells": [
  {
   "cell_type": "code",
   "execution_count": 1,
   "metadata": {},
   "outputs": [],
   "source": [
    "import numpy as np\n",
    "import typing\n",
    "from dataclasses import dataclass\n",
    "from int_field import ZSqrt2Int"
   ]
  },
  {
   "cell_type": "code",
   "execution_count": 2,
   "metadata": {},
   "outputs": [],
   "source": [
    "\n",
    "# implement ellipse as a 2x2 matrix using ZSqrt2Int as entries\n",
    "# but we are storing the grid operator and ellipse differently and should make sure to track that in our mind\n",
    "\n",
    "\n",
    "def skew(d, delta):\n",
    "    assert np.isclose(d[0, 1], d[1, 0])\n",
    "    assert np.isclose(delta[0, 1], delta[1, 0])\n",
    "    \n",
    "    b = d[0, 1]\n",
    "    beta = delta[1, 0]\n",
    "    \n",
    "    return b**2 + beta**2\n",
    "\n",
    "\n",
    "def compute_parameters(M):\n",
    "    \"\"\"Computes z, e, b from ellipse matrix M.\n",
    "\n",
    "    Args:\n",
    "        M (Matrix): 2x2 matrix representing an ellipse\n",
    "\n",
    "    Returns:\n",
    "        int, int, int: z, e, b\n",
    "    \"\"\"\n",
    "    # TODO: change everything relying on z to instead use e^z because logarithms are expensive\n",
    "    assert np.isclose(M[0, 1], M[1, 0])\n",
    "    constant_lambda = 1 + np.sqrt(2)\n",
    "    z = np.log(M[1, 1] / M[0, 0]) / (2 * np.log(constant_lambda))\n",
    "    \n",
    "    e = M[0, 0] / (constant_lambda**(- z))\n",
    "    b = M[0, 1]\n",
    "    \n",
    "    assert np.isclose(M[0, 0], e * constant_lambda**(-z)), (M[0, 0], M[1, 1], e * constant_lambda**(-z), e, z)\n",
    "    assert np.isclose(M[1, 1], e * constant_lambda**z), (M[0, 0], M[1, 1], e * constant_lambda**z, e, z)\n",
    "    \n",
    "    return z, e, b\n",
    "\n",
    "\n",
    "def bias(d, delta):\n",
    "    z, _, _ = compute_parameters(d)\n",
    "    zeta, _, _ = compute_parameters(delta)\n",
    "    \n",
    "    return zeta - z\n",
    "\n",
    "def eval_mat_zsq2(M):\n",
    "    return np.array([[x.eval() for x in row] for row in M])\n",
    "\n",
    "def apply(G, d, delta):\n",
    "    \"\"\"Applies an operator G to the d, delta pair.\n",
    "\n",
    "    Args:\n",
    "        G (operator): matrix operator\n",
    "        d (matrix): d matrix\n",
    "        delta (matrix): delta matrix\n",
    "\n",
    "    Returns:\n",
    "        d', delta': matrix pair\n",
    "    \"\"\"\n",
    "    # Definition A.3\n",
    "    \n",
    "    Gbul = np.array([\n",
    "        [~G[0, 0], ~G[0, 1]],\n",
    "        [~G[1, 0], ~G[1, 1]]\n",
    "    ])\n",
    "    \n",
    "    val_G = eval_mat_zsq2(G)\n",
    "    val_Gbul = eval_mat_zsq2(Gbul)\n",
    "    \n",
    "    d_prime = val_G.T @ d @ val_G\n",
    "    delta_prime = val_Gbul.T @ delta @ val_Gbul\n",
    "    \n",
    "    return d_prime, delta_prime"
   ]
  },
  {
   "cell_type": "code",
   "execution_count": 3,
   "metadata": {},
   "outputs": [
    {
     "data": {
      "text/plain": [
       "ZSqrt2Int((-1, 0))"
      ]
     },
     "execution_count": 3,
     "metadata": {},
     "output_type": "execute_result"
    }
   ],
   "source": [
    "ZSqrt2Int((1, 1)) * ZSqrt2Int((1, -1))"
   ]
  },
  {
   "cell_type": "code",
   "execution_count": 8,
   "metadata": {},
   "outputs": [],
   "source": [
    "one = ZSqrt2Int((1, 0))\n",
    "zero = ZSqrt2Int((0, 0))\n",
    "sqrt2 = ZSqrt2Int((0, 1))\n",
    "lam = ZSqrt2Int((1, 1))\n",
    "\n",
    "R = np.array([\n",
    "    [one, one * -1], \n",
    "    [one, one]\n",
    "])\n",
    "\n",
    "K = np.array([\n",
    "    [~lam, one * -1],\n",
    "    [lam, one]\n",
    "])\n",
    "\n",
    "K_bul = np.array([[~x for x in row] for row in K])\n",
    "\n",
    "A = np.array([\n",
    "    [one, one * -2], \n",
    "    [zero, one],\n",
    "])\n",
    "\n",
    "X = np.array([\n",
    "    [zero, one], \n",
    "    [one, zero],\n",
    "])\n",
    "\n",
    "B = np.array([\n",
    "    [one, sqrt2], \n",
    "    [zero, one],\n",
    "])\n",
    "\n",
    "Z = np.array([\n",
    "        [one, zero],\n",
    "        [zero, one * -1]\n",
    "])\n",
    "\n",
    "sigma = np.array([\n",
    "    [lam, zero],\n",
    "    [zero, one]\n",
    "])\n",
    "\n",
    "tau = np.array([\n",
    "    [one, zero],\n",
    "    [zero, lam * -1]\n",
    "])\n",
    "\n",
    "\n",
    "def compute_ginverse(G):\n",
    "    \"\"\"Given special grid operator, find its inverse\n",
    "\n",
    "    Args:\n",
    "        G (matrix of ZSq2): grid operator in G\\sqrt{2} representation\n",
    "    \"\"\"\n",
    "    \n",
    "    # check that G is special, i.e. has determinant +/- 1\n",
    "    \n",
    "    a = G[0, 0]\n",
    "    b = G[0, 1]\n",
    "    c = G[1, 0]\n",
    "    d = G[1, 1]\n",
    "    \n",
    "    det = a * d - b * c\n",
    "    assert abs(det.eval()) == 2 # determinant should be +- 2 because of sqrt(2) factor\n",
    "    det = det[0]\n",
    "    \n",
    "    # inverse of 2x2 matrix takes the following form:\n",
    "    # 1/det * [[d, -b], [-c, a]]\n",
    "    # so inv(G \\sqrt{2}) = 1/sqrt(2) * inv(G)\n",
    "    # so inv(G) = sqrt(2) * inv(G \\sqrt{2})\n",
    "    \n",
    "    return np.array([\n",
    "        [d, b * -1],\n",
    "        [c * -1, a]\n",
    "    ]) * det * ZSqrt2Int((0, 1)) / 2\n",
    "    # we can muliply by det because it is +- 1\n",
    "\n",
    "\n",
    "def find_grid_operator(d, delta):\n",
    "    G = np.array([\n",
    "        [one, zero],\n",
    "        [zero, one]\n",
    "    ])\n",
    "    \n",
    "    G *= ZSqrt2Int((0, 1)) # we store the G \\sqrt{2} representation\n",
    "    \n",
    "    z, e, b = compute_parameters(d)\n",
    "    zeta, eps, beta = compute_parameters(delta)\n",
    "    \n",
    "    while skew(d, delta) >= 15:\n",
    "        old_skew = skew(d, delta)\n",
    "        print(\"skew\", skew(d, delta))\n",
    "        add_G, d, delta = step_find_grid_operator(d, delta)\n",
    "        new_skew = skew(d, delta)\n",
    "        assert new_skew < old_skew, (new_skew, old_skew)\n",
    "        \n",
    "        G = G @ add_G\n",
    "        G = G * ZSqrt2Int((0, 1)) / 2\n",
    "    \n",
    "    return G, d, delta\n",
    "\n",
    "\n",
    "def step_find_grid_operator(d, delta):\n",
    "    constant_lambda = 1 + np.sqrt(2)\n",
    "    grid_operator = np.array([\n",
    "        [one, zero],\n",
    "        [zero, one]\n",
    "    ])\n",
    "    \n",
    "    grid_operator *= ZSqrt2Int((0, 1))\n",
    "    \n",
    "    z, e, b = compute_parameters(d)\n",
    "    zeta, eps, beta = compute_parameters(delta)\n",
    "    \n",
    "    fix_bias = False\n",
    "    # fix bias\n",
    "    if np.abs(bias(d, delta)) > 1:\n",
    "        fix_bias = True\n",
    "        # Lemma A.1\n",
    "        shift_k = np.floor((1 - bias(d, delta)) / 2)\n",
    "        print(\"Shift k\", shift_k)\n",
    "        \n",
    "        sigma_k = np.array([\n",
    "            [lam**shift_k, zero],\n",
    "            [zero, one]\n",
    "        ])\n",
    "        tau_k = np.array([\n",
    "            [one, zero],\n",
    "            [zero, (lam * -1)**shift_k]\n",
    "        ])\n",
    "        \n",
    "        leading_factor = lam**(-shift_k)\n",
    "        d = sigma_k @ d @ sigma_k * leading_factor\n",
    "        delta = tau_k @ delta @ tau_k * leading_factor\n",
    "    \n",
    "    if beta < 0:\n",
    "        grid_operator = grid_operator @ Z\n",
    "        d, delta = apply(Z, d, delta)\n",
    "    \n",
    "    if z + zeta < 0:\n",
    "        grid_operator = grid_operator @ X\n",
    "        d, delta = apply(X, d, delta)\n",
    "    \n",
    "    z, e, b = compute_parameters(d)\n",
    "    zeta, eps, beta = compute_parameters(delta)\n",
    "    \n",
    "    assert np.abs(bias(d, delta)) <= 1, (bias(d, delta), d, delta)\n",
    "    assert beta >= 0\n",
    "    assert z + zeta >= 0\n",
    "    assert skew(d, delta) >= 15\n",
    "    \n",
    "    if b >= 0:\n",
    "        if -0.8 <= z <= 0.8 and -0.8 <= zeta <= 0.8:\n",
    "            print(\"R\")\n",
    "            grid_operator = grid_operator @ R * ZSqrt2Int((0, 1))\n",
    "            grid_operator = grid_operator / 2\n",
    "            \n",
    "            d, delta = apply(R, d, delta)\n",
    "            d = d / 2\n",
    "            delta = delta / 2\n",
    "            \n",
    "        elif z <= 0.3 and 0.8 <= zeta:\n",
    "            print(\"K\")\n",
    "            grid_operator = grid_operator @ K * ZSqrt2Int((0, 1))\n",
    "            grid_operator = grid_operator / 2\n",
    "            \n",
    "            d, delta = apply(K, d, delta)\n",
    "            d = d / 2\n",
    "            delta = delta / 2\n",
    "        elif 0.3 <= z and 0.3 <= zeta:\n",
    "            print(\"A\")\n",
    "            assert b >= 0 and beta >= 0, (b, beta)\n",
    "            # Lemma A.17\n",
    "            c = min(z, zeta)\n",
    "            n = int(max(1, np.floor(constant_lambda**c / 2)))\n",
    "            \n",
    "            An = np.array([\n",
    "                [one, one * -2 * n],\n",
    "                [zero, one]\n",
    "            ])\n",
    "            \n",
    "            grid_operator = grid_operator @ An\n",
    "            d, delta = apply(An, d, delta)\n",
    "            \n",
    "        elif 0.8 <= z and zeta <= 0.3:\n",
    "            print(\"K_bul\")\n",
    "            grid_operator = grid_operator @ K_bul * ZSqrt2Int((0, 1))\n",
    "            grid_operator = grid_operator / 2\n",
    "            d, delta = apply(K_bul, d, delta)\n",
    "            d = d / 2\n",
    "            delta = delta / 2\n",
    "        else:\n",
    "            raise ValueError(\"This should not happen\")\n",
    "    else:\n",
    "        if -0.8 <= z <= 0.8 and -0.8 <= zeta <= 0.8:\n",
    "            print(\"Rb\")\n",
    "            grid_operator = grid_operator @ R * ZSqrt2Int((0, 1))\n",
    "            grid_operator = grid_operator / 2\n",
    "            \n",
    "            d, delta = apply(R, d, delta)\n",
    "            d = d / 2\n",
    "            delta = delta / 2\n",
    "            \n",
    "        elif z >= -0.2 and zeta >= -0.2:\n",
    "            print(\"B\")\n",
    "            c = min(z, zeta)\n",
    "            n = int(max(1, np.floor(constant_lambda**c / np.sqrt(2))))\n",
    "            \n",
    "            Bn = np.array([\n",
    "                [one, sqrt2 * n],\n",
    "                [zero, one]\n",
    "            ])\n",
    "            \n",
    "            grid_operator = grid_operator @ Bn\n",
    "            d, delta = apply(Bn, d, delta)\n",
    "        else:\n",
    "            raise ValueError(\"This should not happen\")\n",
    "    \n",
    "    # we need to post-adjust bias\n",
    "    if fix_bias:\n",
    "        grid_operator = sigma_k @ grid_operator @ sigma_k\n",
    "    \n",
    "    return grid_operator, d, delta"
   ]
  },
  {
   "cell_type": "code",
   "execution_count": 10,
   "metadata": {},
   "outputs": [
    {
     "ename": "AssertionError",
     "evalue": "self=ZSqrt2Int((1, 0)), o=2",
     "output_type": "error",
     "traceback": [
      "\u001b[1;31m---------------------------------------------------------------------------\u001b[0m",
      "\u001b[1;31mAssertionError\u001b[0m                            Traceback (most recent call last)",
      "\u001b[1;32mc:\\Users\\keepw\\Documents\\Research\\sqc\\ellipse.ipynb Cell 5\u001b[0m line \u001b[0;36m1\n\u001b[1;32m----> <a href='vscode-notebook-cell:/c%3A/Users/keepw/Documents/Research/sqc/ellipse.ipynb#X14sZmlsZQ%3D%3D?line=0'>1</a>\u001b[0m grid_operator \u001b[39m=\u001b[39m np\u001b[39m.\u001b[39;49marray([\n\u001b[0;32m      <a href='vscode-notebook-cell:/c%3A/Users/keepw/Documents/Research/sqc/ellipse.ipynb#X14sZmlsZQ%3D%3D?line=1'>2</a>\u001b[0m         [one, zero],\n\u001b[0;32m      <a href='vscode-notebook-cell:/c%3A/Users/keepw/Documents/Research/sqc/ellipse.ipynb#X14sZmlsZQ%3D%3D?line=2'>3</a>\u001b[0m         [zero, one]\n\u001b[0;32m      <a href='vscode-notebook-cell:/c%3A/Users/keepw/Documents/Research/sqc/ellipse.ipynb#X14sZmlsZQ%3D%3D?line=3'>4</a>\u001b[0m     ]) \u001b[39m/\u001b[39;49m \u001b[39m2\u001b[39;49m\n",
      "File \u001b[1;32mc:\\Users\\keepw\\Documents\\Research\\sqc\\int_field.py:29\u001b[0m, in \u001b[0;36mZSqrt2Int.__truediv__\u001b[1;34m(self, o)\u001b[0m\n\u001b[0;32m     27\u001b[0m \u001b[39mdef\u001b[39;00m \u001b[39m__truediv__\u001b[39m(\u001b[39mself\u001b[39m, o):\n\u001b[0;32m     28\u001b[0m     \u001b[39mif\u001b[39;00m \u001b[39misinstance\u001b[39m(o, \u001b[39mint\u001b[39m):\n\u001b[1;32m---> 29\u001b[0m         \u001b[39massert\u001b[39;00m \u001b[39mself\u001b[39m\u001b[39m.\u001b[39mcoeffs[\u001b[39m0\u001b[39m] \u001b[39m%\u001b[39m o \u001b[39m==\u001b[39m \u001b[39m0\u001b[39m \u001b[39mand\u001b[39;00m \u001b[39mself\u001b[39m\u001b[39m.\u001b[39mcoeffs[\u001b[39m1\u001b[39m] \u001b[39m%\u001b[39m o \u001b[39m==\u001b[39m \u001b[39m0\u001b[39m, \u001b[39mf\u001b[39m\u001b[39m\"\u001b[39m\u001b[39mself=\u001b[39m\u001b[39m{\u001b[39;00m\u001b[39mself\u001b[39m\u001b[39m}\u001b[39;00m\u001b[39m, o=\u001b[39m\u001b[39m{\u001b[39;00mo\u001b[39m}\u001b[39;00m\u001b[39m\"\u001b[39m\n\u001b[0;32m     30\u001b[0m         \u001b[39mreturn\u001b[39;00m ZSqrt2Int(\u001b[39mtuple\u001b[39m([\u001b[39mself\u001b[39m\u001b[39m.\u001b[39mcoeffs[i] \u001b[39m/\u001b[39m\u001b[39m/\u001b[39m o \u001b[39mfor\u001b[39;00m i \u001b[39min\u001b[39;00m \u001b[39mrange\u001b[39m(\u001b[39m2\u001b[39m)]))\n\u001b[0;32m     31\u001b[0m     \u001b[39mif\u001b[39;00m \u001b[39misinstance\u001b[39m(o, ZSqrt2Int):\n",
      "\u001b[1;31mAssertionError\u001b[0m: self=ZSqrt2Int((1, 0)), o=2"
     ]
    }
   ],
   "source": [
    "grid_operator = np.array([\n",
    "        [one, zero],\n",
    "        [zero, one]\n",
    "    ]) / 2"
   ]
  },
  {
   "cell_type": "code",
   "execution_count": 7,
   "metadata": {},
   "outputs": [
    {
     "data": {
      "text/plain": [
       "ZSqrt2Int((1, 0))"
      ]
     },
     "execution_count": 7,
     "metadata": {},
     "output_type": "execute_result"
    }
   ],
   "source": [
    "ZSqrt2Int((2, 0)) / 2"
   ]
  },
  {
   "cell_type": "code",
   "execution_count": null,
   "metadata": {},
   "outputs": [
    {
     "data": {
      "text/plain": [
       "array([[  8.28427125, -11.56854249],\n",
       "       [-11.56854249,  61.42135624]])"
      ]
     },
     "execution_count": 222,
     "metadata": {},
     "output_type": "execute_result"
    }
   ],
   "source": [
    "aa = np.array([[ 1., -2.],\n",
    "       [ 0.,  1.]])\n",
    "\n",
    "aa.T @ unit_disk @ aa"
   ]
  },
  {
   "cell_type": "code",
   "execution_count": null,
   "metadata": {},
   "outputs": [
    {
     "name": "stdout",
     "output_type": "stream",
     "text": [
      "[[8.28427125 3.40644186]\n",
      " [3.40644186 1.52141882]]\n",
      "23.207692298129253\n",
      "23.207692298129253\n"
     ]
    },
    {
     "data": {
      "text/plain": [
       "(-0.9614057992682924, 3.5501895933970533, 3.4064418605143736)"
      ]
     },
     "execution_count": 232,
     "metadata": {},
     "output_type": "execute_result"
    }
   ],
   "source": [
    "test_d, test_delta = apply(A, unit_disk, unit_disk)\n",
    "print(test_d)\n",
    "print(skew(test_d, test_delta))\n",
    "# test_d, test_delta = apply(Z, test_d, test_delta)\n",
    "# test_d, test_delta = apply(A @ A @ A @ A, test_d, test_delta)\n",
    "# test_d = test_d / 2\n",
    "# test_delta = test_delta / 2\n",
    "print(skew(test_d, test_delta))\n",
    "compute_parameters(test_d)"
   ]
  },
  {
   "cell_type": "code",
   "execution_count": null,
   "metadata": {},
   "outputs": [
    {
     "name": "stdout",
     "output_type": "stream",
     "text": [
      "skew 1002534640.0\n",
      "A\n",
      "skew 29511864.07378806\n",
      "A\n",
      "skew 868747.6458793846\n",
      "A\n",
      "skew 25573.063599867684\n",
      "A\n",
      "skew 752.3144920571426\n",
      "A\n",
      "skew 21.66377992363721\n",
      "A\n"
     ]
    }
   ],
   "source": [
    "e = 22389\n",
    "z = 1\n",
    "b = np.sqrt(e**2 - 1)\n",
    "\n",
    "constant_lambda = 1 + np.sqrt(2)\n",
    "unit_disk = np.array([\n",
    "    [e * constant_lambda**(-z), b],\n",
    "    [b, e * constant_lambda**z]\n",
    "])\n",
    "\n",
    "assert np.isclose(np.linalg.det(unit_disk), 1), \"State must be determinant 1\"\n",
    "Gop, d, delta = find_grid_operator(unit_disk, unit_disk)"
   ]
  },
  {
   "cell_type": "code",
   "execution_count": null,
   "metadata": {},
   "outputs": [
    {
     "name": "stdout",
     "output_type": "stream",
     "text": [
      "[[ 4.55634919 10.95445115]\n",
      " [10.95445115 26.55634919]]\n"
     ]
    },
    {
     "data": {
      "text/plain": [
       "<matplotlib.collections.PathCollection at 0x290ba8e3810>"
      ]
     },
     "execution_count": 288,
     "metadata": {},
     "output_type": "execute_result"
    },
    {
     "data": {
      "image/png": "[encoded data removed]",
      "text/plain": [
       "<Figure size 640x480 with 1 Axes>"
      ]
     },
     "metadata": {},
     "output_type": "display_data"
    }
   ],
   "source": [
    "import matplotlib.pyplot as plt\n",
    "\n",
    "x = np.linspace(-1, 1, 500)\n",
    "y = np.linspace(-1, 1, 500)\n",
    "\n",
    "e = 11\n",
    "z = 1\n",
    "b = np.sqrt(e**2 - 1)\n",
    "\n",
    "constant_lambda = 1 + np.sqrt(2)\n",
    "unit_disk = np.array([\n",
    "    [e * constant_lambda**(-z), b],\n",
    "    [b, e * constant_lambda**z]\n",
    "])\n",
    "\n",
    "\n",
    "# unit_disk_2, _ = apply(A, unit_disk, unit_disk)\n",
    "# unit_disk_2 = np.array([\n",
    "#     [(e + 1) * constant_lambda**(-z), b],\n",
    "#     [b, (e + 1) * constant_lambda**z]\n",
    "# ])\n",
    "\n",
    "\n",
    "print(unit_disk)\n",
    "\n",
    "x_vals = []\n",
    "y_vals = []\n",
    "\n",
    "x_vals2 = []\n",
    "y_vals2 = []\n",
    "\n",
    "for i in range(len(x)):\n",
    "    for j in range(len(y)):\n",
    "        u = np.array([[x[i], y[j]]]).T\n",
    "        \n",
    "        val = u.T @ unit_disk @ u\n",
    "        val2 = u.T @ unit_disk_2 @ u\n",
    "        \n",
    "        # print(val)\n",
    "        if val <= 1:\n",
    "            x_vals.append(x[i])\n",
    "            y_vals.append(y[j])\n",
    "            # pass\n",
    "            # plt.scatter(x[i], y[j], color='blue')\n",
    "        \n",
    "        if val2 <= 1:\n",
    "            x_vals2.append(x[i])\n",
    "            y_vals2.append(y[j])\n",
    "\n",
    "plt.scatter(x_vals, y_vals, color='blue')\n",
    "# plt.scatter(x_vals2, y_vals2, color='red')"
   ]
  },
  {
   "cell_type": "markdown",
   "metadata": {},
   "source": [
    "Let's put it all together!\n",
    "\n",
    "We need to enumerate an ellipse which encloses the region we care about, i.e. the Fallback region. Call this region $D$ and associated $\\Delta$ is the bounds on the bullet value.\n",
    "\n",
    "We then reshape this region via the special grid operator so that we can enumerate the points more rapidly.\n",
    "\n",
    "We then rapidly enumerate points, translate back to the original region, and discard points which do not lie in the original region.\n",
    "\n",
    "Finally, we check for solvability."
   ]
  },
  {
   "cell_type": "code",
   "execution_count": null,
   "metadata": {},
   "outputs": [],
   "source": [
    "\n"
   ]
  }
 ],
 "metadata": {
  "kernelspec": {
   "display_name": "verity-full",
   "language": "python",
   "name": "python3"
  },
  "language_info": {
   "codemirror_mode": {
    "name": "ipython",
    "version": 3
   },
   "file_extension": ".py",
   "mimetype": "text/x-python",
   "name": "python",
   "nbconvert_exporter": "python",
   "pygments_lexer": "ipython3",
   "version": "3.11.7"
  }
 },
 "nbformat": 4,
 "nbformat_minor": 2
}
